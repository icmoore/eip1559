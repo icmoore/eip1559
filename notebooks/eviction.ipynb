{
 "cells": [
  {
   "cell_type": "markdown",
   "metadata": {},
   "source": [
    "# Eviction policy\n",
    "\n",
    "We look at two different rules to evict transactions that are in the transaction pool.\n",
    "\n",
    "## Fixed band\n",
    "\n",
    "The rule is governed by a parameter `mu >= 0`.\n",
    "\n",
    "> Evict iff `(1-mu) * basefee > fee_cap`\n",
    "\n",
    "- For `mu = 0`, we evict as soon as `basefee` is above `fee_cap`.\n",
    "\n",
    "- If this is too strong, we can set `mu = 0.1` to tolerate fee caps within a 10% lower band of basefee. For instance, if `basefee = 10` and `mu = 0.1`, all transactions with fee cap greater than 9 are kept in the pool.\n",
    "\n",
    "## Trend-picker\n",
    "\n",
    "We modify the rule above with a parameter increasing or decreasing the tolerance based on the current basefee trend.\n",
    "\n",
    "> Evict iff `(1+delta) * (1-mu) * basefee > fee_cap`\n",
    "\n",
    "`delta` is computed from recent basefees. `delta` should be close to zero when basefee is stable, positive when basefee trends upwards and negative when basefee trends downwards. We suggest\n",
    "\n",
    "```\n",
    "delta = (basefee - moving_average(basefees, 10)) / basefee\n",
    "```\n",
    "\n",
    "where `moving_average(basefees, 10)` returns the average basefee over the last 10 blocks. We divide by `basefee` to normalise the rule (same behaviour at 1 Gwei basefee and at 100 Gwei basefee).\n",
    "\n",
    "### Stable basefee\n",
    "\n",
    "We work out some numbers when basefee is overall stable, yet noisy. In the extreme case, a full block is mined, followed by an empty block, followed by a full block etc. In this case, basefee is either increased by 12.5% or decreased by 12.5%."
   ]
  },
  {
   "cell_type": "code",
   "execution_count": 1,
   "metadata": {},
   "outputs": [
    {
     "name": "stdout",
     "output_type": "stream",
     "text": [
      "[10, 11.25, 9.84375, 11.07421875, 9.68994140625, 10.90118408203125, 9.538536071777344, 10.730853080749512, 9.389496445655823, 10.5631835013628, 9.24278556369245]\n"
     ]
    }
   ],
   "source": [
    "basefee = 10\n",
    "basefees = [basefee]\n",
    "for i in range(10):\n",
    "    basefee = basefee * (1 + 0.125 * ((-1) ** i))\n",
    "    basefees += [basefee]\n",
    "print(basefees)"
   ]
  },
  {
   "cell_type": "code",
   "execution_count": 2,
   "metadata": {},
   "outputs": [
    {
     "data": {
      "text/plain": [
       "[10.37158203125,\n",
       " 10.55181884765625,\n",
       " 10.209526062011719,\n",
       " 10.386946678161621,\n",
       " 10.050002217292786]"
      ]
     },
     "execution_count": 2,
     "metadata": {},
     "output_type": "execute_result"
    }
   ],
   "source": [
    "moving_averages = []\n",
    "for i in range(5):\n",
    "    moving_averages += [sum(basefees[i:(5+i)]) / 5]\n",
    "moving_averages"
   ]
  },
  {
   "cell_type": "code",
   "execution_count": 3,
   "metadata": {},
   "outputs": [
    {
     "data": {
      "text/plain": [
       "[-0.08733478106116051,\n",
       " 0.016684063396081538,\n",
       " -0.08733478106116051,\n",
       " 0.016684063396081538,\n",
       " -0.08733478106116051]"
      ]
     },
     "execution_count": 3,
     "metadata": {},
     "output_type": "execute_result"
    }
   ],
   "source": [
    "deltas = [(basefees[i+6] - moving_averages[i])/basefees[i+6] for i in range(5)]\n",
    "deltas"
   ]
  },
  {
   "cell_type": "markdown",
   "metadata": {},
   "source": [
    "We see that deltas are close to 0, albeit noisy. What is the tolerance of the policy?"
   ]
  },
  {
   "cell_type": "code",
   "execution_count": 4,
   "metadata": {},
   "outputs": [
    {
     "data": {
      "text/plain": [
       "[0.8213986970449555,\n",
       " 0.9150156570564735,\n",
       " 0.8213986970449555,\n",
       " 0.9150156570564735,\n",
       " 0.8213986970449555]"
      ]
     },
     "execution_count": 4,
     "metadata": {},
     "output_type": "execute_result"
    }
   ],
   "source": [
    "mu = 0.1\n",
    "band_sizes = [(1+d) * (1-mu) for d in deltas]\n",
    "band_sizes"
   ]
  },
  {
   "cell_type": "markdown",
   "metadata": {},
   "source": [
    "We end up keeping transactions with fee caps larger than ~91% of basefee."
   ]
  },
  {
   "cell_type": "markdown",
   "metadata": {},
   "source": [
    "### Increasing basefee\n",
    "\n",
    "In this case, full blocks are mined one after the other. Basefee increases by 12.5% each step."
   ]
  },
  {
   "cell_type": "code",
   "execution_count": 5,
   "metadata": {},
   "outputs": [
    {
     "name": "stdout",
     "output_type": "stream",
     "text": [
      "[10, 11.25, 12.65625, 14.23828125, 16.01806640625, 18.02032470703125, 20.272865295410156, 22.806973457336426, 25.65784513950348, 28.865075781941414, 32.47321025468409]\n"
     ]
    }
   ],
   "source": [
    "basefee = 10\n",
    "basefees = [basefee]\n",
    "for i in range(10):\n",
    "    basefee = basefee * (1 + 0.125)\n",
    "    basefees += [basefee]\n",
    "print(basefees)"
   ]
  },
  {
   "cell_type": "code",
   "execution_count": 6,
   "metadata": {},
   "outputs": [
    {
     "data": {
      "text/plain": [
       "[12.83251953125,\n",
       " 14.43658447265625,\n",
       " 16.24115753173828,\n",
       " 18.271302223205566,\n",
       " 20.555215001106262]"
      ]
     },
     "execution_count": 6,
     "metadata": {},
     "output_type": "execute_result"
    }
   ],
   "source": [
    "moving_averages = []\n",
    "for i in range(5):\n",
    "    moving_averages += [sum(basefees[i:(5+i)]) / 5]\n",
    "moving_averages"
   ]
  },
  {
   "cell_type": "code",
   "execution_count": 7,
   "metadata": {},
   "outputs": [
    {
     "data": {
      "text/plain": [
       "[0.3670100726138932,\n",
       " 0.3670100726138932,\n",
       " 0.3670100726138932,\n",
       " 0.3670100726138932,\n",
       " 0.3670100726138932]"
      ]
     },
     "execution_count": 7,
     "metadata": {},
     "output_type": "execute_result"
    }
   ],
   "source": [
    "deltas = [(basefees[i+6] - moving_averages[i])/basefees[i+6] for i in range(5)]\n",
    "deltas"
   ]
  },
  {
   "cell_type": "code",
   "execution_count": 8,
   "metadata": {},
   "outputs": [
    {
     "data": {
      "text/plain": [
       "[1.230309065352504,\n",
       " 1.230309065352504,\n",
       " 1.230309065352504,\n",
       " 1.230309065352504,\n",
       " 1.230309065352504]"
      ]
     },
     "execution_count": 8,
     "metadata": {},
     "output_type": "execute_result"
    }
   ],
   "source": [
    "mu = 0.1\n",
    "band_sizes = [(1+d) * (1-mu) for d in deltas]\n",
    "band_sizes"
   ]
  },
  {
   "cell_type": "markdown",
   "metadata": {},
   "source": [
    "This is the maximum value `delta` can achieve. With `mu = 0.1`, this implies evicting all transactions with fee cap smaller than 123% of the current basefee. In particular, we evict transactions that have fee cap greater than the current basefee, if their fee cap is smaller than `1.23 * basefee`. This may be rationalised by the intuition that should basefee increase at this speed in a sustained manner, there are plenty more transactions with fee caps above `1.23 * basefee`, so we are only evicting transactions that have posted smaller fee caps than these."
   ]
  },
  {
   "cell_type": "markdown",
   "metadata": {},
   "source": [
    "If we are unhappy with throwing away currently valid transactions (even if they are likely dominated by higer fee cap transactions), we can also use the eviction rule\n",
    "\n",
    "> Evict iff `min((1+delta) * (1-mu), 1) * basefee > fee_cap` "
   ]
  }
 ],
 "metadata": {
  "kernelspec": {
   "display_name": "Python 3",
   "language": "python",
   "name": "python3"
  },
  "language_info": {
   "codemirror_mode": {
    "name": "ipython",
    "version": 3
   },
   "file_extension": ".py",
   "mimetype": "text/x-python",
   "name": "python",
   "nbconvert_exporter": "python",
   "pygments_lexer": "ipython3",
   "version": "3.8.2"
  }
 },
 "nbformat": 4,
 "nbformat_minor": 4
}
